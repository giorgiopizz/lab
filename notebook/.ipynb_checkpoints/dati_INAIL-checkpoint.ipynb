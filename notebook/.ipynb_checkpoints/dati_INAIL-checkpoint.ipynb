{
 "cells": [
  {
   "cell_type": "code",
   "execution_count": 3,
   "metadata": {},
   "outputs": [
    {
     "data": {
      "text/html": [
       "<div>\n",
       "<style scoped>\n",
       "    .dataframe tbody tr th:only-of-type {\n",
       "        vertical-align: middle;\n",
       "    }\n",
       "\n",
       "    .dataframe tbody tr th {\n",
       "        vertical-align: top;\n",
       "    }\n",
       "\n",
       "    .dataframe thead th {\n",
       "        text-align: right;\n",
       "    }\n",
       "</style>\n",
       "<table border=\"1\" class=\"dataframe\">\n",
       "  <thead>\n",
       "    <tr style=\"text-align: right;\">\n",
       "      <th></th>\n",
       "      <th>DataRilevazione</th>\n",
       "      <th>DataProtocollo</th>\n",
       "      <th>DataAccadimento</th>\n",
       "      <th>DataMorte</th>\n",
       "      <th>LuogoAccadimento</th>\n",
       "      <th>IdentificativoInfortunato</th>\n",
       "      <th>Genere</th>\n",
       "      <th>Eta</th>\n",
       "      <th>LuogoNascita</th>\n",
       "      <th>ModalitaAccadimento</th>\n",
       "      <th>ConSenzaMezzoTrasporto</th>\n",
       "      <th>IdentificativoCaso</th>\n",
       "      <th>IdentificativoDatoreLavoro</th>\n",
       "      <th>PosizioneAssicurativaTerritoriale</th>\n",
       "      <th>SettoreAttivitaEconomica</th>\n",
       "      <th>Gestione</th>\n",
       "      <th>GestioneTariffaria</th>\n",
       "      <th>GrandeGruppoTariffario</th>\n",
       "    </tr>\n",
       "  </thead>\n",
       "  <tbody>\n",
       "    <tr>\n",
       "      <th>0</th>\n",
       "      <td>30/09/2018</td>\n",
       "      <td>04/05/2018</td>\n",
       "      <td>20/04/2018</td>\n",
       "      <td>NaN</td>\n",
       "      <td>15</td>\n",
       "      <td>14032185</td>\n",
       "      <td>F</td>\n",
       "      <td>43</td>\n",
       "      <td>ITAL</td>\n",
       "      <td>S</td>\n",
       "      <td>N</td>\n",
       "      <td>21518695</td>\n",
       "      <td>-1</td>\n",
       "      <td>-1</td>\n",
       "      <td>ND</td>\n",
       "      <td>S</td>\n",
       "      <td>ND</td>\n",
       "      <td>ND</td>\n",
       "    </tr>\n",
       "    <tr>\n",
       "      <th>1</th>\n",
       "      <td>30/09/2017</td>\n",
       "      <td>12/01/2017</td>\n",
       "      <td>12/01/2017</td>\n",
       "      <td>NaN</td>\n",
       "      <td>12</td>\n",
       "      <td>2374985</td>\n",
       "      <td>F</td>\n",
       "      <td>54</td>\n",
       "      <td>ITAL</td>\n",
       "      <td>N</td>\n",
       "      <td>N</td>\n",
       "      <td>20437079</td>\n",
       "      <td>-1</td>\n",
       "      <td>-1</td>\n",
       "      <td>ND</td>\n",
       "      <td>I</td>\n",
       "      <td>ND</td>\n",
       "      <td>ND</td>\n",
       "    </tr>\n",
       "    <tr>\n",
       "      <th>2</th>\n",
       "      <td>30/09/2017</td>\n",
       "      <td>22/03/2017</td>\n",
       "      <td>22/03/2017</td>\n",
       "      <td>NaN</td>\n",
       "      <td>12</td>\n",
       "      <td>13421626</td>\n",
       "      <td>F</td>\n",
       "      <td>61</td>\n",
       "      <td>ITAL</td>\n",
       "      <td>N</td>\n",
       "      <td>N</td>\n",
       "      <td>20602441</td>\n",
       "      <td>-1</td>\n",
       "      <td>-1</td>\n",
       "      <td>ND</td>\n",
       "      <td>S</td>\n",
       "      <td>ND</td>\n",
       "      <td>ND</td>\n",
       "    </tr>\n",
       "    <tr>\n",
       "      <th>3</th>\n",
       "      <td>30/09/2017</td>\n",
       "      <td>26/04/2017</td>\n",
       "      <td>21/04/2017</td>\n",
       "      <td>NaN</td>\n",
       "      <td>12</td>\n",
       "      <td>13532153</td>\n",
       "      <td>M</td>\n",
       "      <td>6</td>\n",
       "      <td>ITAL</td>\n",
       "      <td>N</td>\n",
       "      <td>N</td>\n",
       "      <td>20671002</td>\n",
       "      <td>-1</td>\n",
       "      <td>-1</td>\n",
       "      <td>ND</td>\n",
       "      <td>S</td>\n",
       "      <td>ND</td>\n",
       "      <td>ND</td>\n",
       "    </tr>\n",
       "    <tr>\n",
       "      <th>4</th>\n",
       "      <td>30/09/2017</td>\n",
       "      <td>22/05/2017</td>\n",
       "      <td>18/05/2017</td>\n",
       "      <td>NaN</td>\n",
       "      <td>15</td>\n",
       "      <td>13555121</td>\n",
       "      <td>M</td>\n",
       "      <td>49</td>\n",
       "      <td>ITAL</td>\n",
       "      <td>S</td>\n",
       "      <td>S</td>\n",
       "      <td>20748177</td>\n",
       "      <td>6748758</td>\n",
       "      <td>8332449</td>\n",
       "      <td>J 62</td>\n",
       "      <td>I</td>\n",
       "      <td>1</td>\n",
       "      <td>0</td>\n",
       "    </tr>\n",
       "  </tbody>\n",
       "</table>\n",
       "</div>"
      ],
      "text/plain": [
       "  DataRilevazione DataProtocollo DataAccadimento DataMorte  LuogoAccadimento  \\\n",
       "0      30/09/2018     04/05/2018      20/04/2018       NaN                15   \n",
       "1      30/09/2017     12/01/2017      12/01/2017       NaN                12   \n",
       "2      30/09/2017     22/03/2017      22/03/2017       NaN                12   \n",
       "3      30/09/2017     26/04/2017      21/04/2017       NaN                12   \n",
       "4      30/09/2017     22/05/2017      18/05/2017       NaN                15   \n",
       "\n",
       "   IdentificativoInfortunato Genere  Eta LuogoNascita ModalitaAccadimento  \\\n",
       "0                   14032185      F   43         ITAL                   S   \n",
       "1                    2374985      F   54         ITAL                   N   \n",
       "2                   13421626      F   61         ITAL                   N   \n",
       "3                   13532153      M    6         ITAL                   N   \n",
       "4                   13555121      M   49         ITAL                   S   \n",
       "\n",
       "  ConSenzaMezzoTrasporto  IdentificativoCaso  IdentificativoDatoreLavoro  \\\n",
       "0                      N            21518695                          -1   \n",
       "1                      N            20437079                          -1   \n",
       "2                      N            20602441                          -1   \n",
       "3                      N            20671002                          -1   \n",
       "4                      S            20748177                     6748758   \n",
       "\n",
       "   PosizioneAssicurativaTerritoriale SettoreAttivitaEconomica Gestione  \\\n",
       "0                                 -1                       ND        S   \n",
       "1                                 -1                       ND        I   \n",
       "2                                 -1                       ND        S   \n",
       "3                                 -1                       ND        S   \n",
       "4                            8332449                     J 62        I   \n",
       "\n",
       "  GestioneTariffaria GrandeGruppoTariffario  \n",
       "0                 ND                     ND  \n",
       "1                 ND                     ND  \n",
       "2                 ND                     ND  \n",
       "3                 ND                     ND  \n",
       "4                  1                      0  "
      ]
     },
     "execution_count": 3,
     "metadata": {},
     "output_type": "execute_result"
    }
   ],
   "source": [
    "import pandas as pd\n",
    "\n",
    "dati=pd.read_csv(\"/Users/giorgio/Downloads/DatiConCadenzaMensileInfortuniLombardia.csv\",sep=\";\")\n",
    "dati.head()"
   ]
  },
  {
   "cell_type": "code",
   "execution_count": 9,
   "metadata": {},
   "outputs": [
    {
     "data": {
      "text/plain": [
       "166"
      ]
     },
     "execution_count": 9,
     "metadata": {},
     "output_type": "execute_result"
    }
   ],
   "source": [
    "len(dati[\"DataMorte\"].unique())\n",
    "#i morti sono 166"
   ]
  },
  {
   "cell_type": "code",
   "execution_count": 10,
   "metadata": {},
   "outputs": [
    {
     "data": {
      "text/plain": [
       "<matplotlib.axes._subplots.AxesSubplot at 0x11c8b10b8>"
      ]
     },
     "execution_count": 10,
     "metadata": {},
     "output_type": "execute_result"
    },
    {
     "data": {
      "image/png": "[encoded data removed]",
      "text/plain": [
       "<Figure size 432x288 with 1 Axes>"
      ]
     },
     "metadata": {
      "needs_background": "light"
     },
     "output_type": "display_data"
    }
   ],
   "source": [
    "%matplotlib inline\n",
    "dati[\"Eta\"].hist()"
   ]
  },
  {
   "cell_type": "code",
   "execution_count": 13,
   "metadata": {},
   "outputs": [
    {
     "ename": "AttributeError",
     "evalue": "'Series' object has no attribute 'std_dev'",
     "output_type": "error",
     "traceback": [
      "\u001b[0;31m---------------------------------------------------------------------------\u001b[0m",
      "\u001b[0;31mAttributeError\u001b[0m                            Traceback (most recent call last)",
      "\u001b[0;32m<ipython-input-13-89c06287e7be>\u001b[0m in \u001b[0;36m<module>\u001b[0;34m()\u001b[0m\n\u001b[0;32m----> 1\u001b[0;31m \u001b[0mdati\u001b[0m\u001b[0;34m[\u001b[0m\u001b[0;34m\"Eta\"\u001b[0m\u001b[0;34m]\u001b[0m\u001b[0;34m.\u001b[0m\u001b[0mstd_dev\u001b[0m\u001b[0;34m(\u001b[0m\u001b[0;34m)\u001b[0m\u001b[0;34m\u001b[0m\u001b[0m\n\u001b[0m",
      "\u001b[0;32m/anaconda3/lib/python3.7/site-packages/pandas/core/generic.py\u001b[0m in \u001b[0;36m__getattr__\u001b[0;34m(self, name)\u001b[0m\n\u001b[1;32m   4374\u001b[0m             \u001b[0;32mif\u001b[0m \u001b[0mself\u001b[0m\u001b[0;34m.\u001b[0m\u001b[0m_info_axis\u001b[0m\u001b[0;34m.\u001b[0m\u001b[0m_can_hold_identifiers_and_holds_name\u001b[0m\u001b[0;34m(\u001b[0m\u001b[0mname\u001b[0m\u001b[0;34m)\u001b[0m\u001b[0;34m:\u001b[0m\u001b[0;34m\u001b[0m\u001b[0m\n\u001b[1;32m   4375\u001b[0m                 \u001b[0;32mreturn\u001b[0m \u001b[0mself\u001b[0m\u001b[0;34m[\u001b[0m\u001b[0mname\u001b[0m\u001b[0;34m]\u001b[0m\u001b[0;34m\u001b[0m\u001b[0m\n\u001b[0;32m-> 4376\u001b[0;31m             \u001b[0;32mreturn\u001b[0m \u001b[0mobject\u001b[0m\u001b[0;34m.\u001b[0m\u001b[0m__getattribute__\u001b[0m\u001b[0;34m(\u001b[0m\u001b[0mself\u001b[0m\u001b[0;34m,\u001b[0m \u001b[0mname\u001b[0m\u001b[0;34m)\u001b[0m\u001b[0;34m\u001b[0m\u001b[0m\n\u001b[0m\u001b[1;32m   4377\u001b[0m \u001b[0;34m\u001b[0m\u001b[0m\n\u001b[1;32m   4378\u001b[0m     \u001b[0;32mdef\u001b[0m \u001b[0m__setattr__\u001b[0m\u001b[0;34m(\u001b[0m\u001b[0mself\u001b[0m\u001b[0;34m,\u001b[0m \u001b[0mname\u001b[0m\u001b[0;34m,\u001b[0m \u001b[0mvalue\u001b[0m\u001b[0;34m)\u001b[0m\u001b[0;34m:\u001b[0m\u001b[0;34m\u001b[0m\u001b[0m\n",
      "\u001b[0;31mAttributeError\u001b[0m: 'Series' object has no attribute 'std_dev'"
     ]
    }
   ],
   "source": [
    "dati[\"Eta\"]"
   ]
  },
  {
   "cell_type": "code",
   "execution_count": 18,
   "metadata": {},
   "outputs": [
    {
     "data": {
      "text/plain": [
       "26.40771546489072"
      ]
     },
     "execution_count": 18,
     "metadata": {},
     "output_type": "execute_result"
    }
   ],
   "source": [
    "dati[\"LuogoAccadimento\"].mean()"
   ]
  },
  {
   "cell_type": "code",
   "execution_count": 19,
   "metadata": {},
   "outputs": [
    {
     "data": {
      "text/html": [
       "<div>\n",
       "<style scoped>\n",
       "    .dataframe tbody tr th:only-of-type {\n",
       "        vertical-align: middle;\n",
       "    }\n",
       "\n",
       "    .dataframe tbody tr th {\n",
       "        vertical-align: top;\n",
       "    }\n",
       "\n",
       "    .dataframe thead th {\n",
       "        text-align: right;\n",
       "    }\n",
       "</style>\n",
       "<table border=\"1\" class=\"dataframe\">\n",
       "  <thead>\n",
       "    <tr style=\"text-align: right;\">\n",
       "      <th></th>\n",
       "      <th>DataRilevazione</th>\n",
       "      <th>DataProtocollo</th>\n",
       "      <th>DataAccadimento</th>\n",
       "      <th>LuogoAccadimento</th>\n",
       "      <th>Genere</th>\n",
       "      <th>Eta</th>\n",
       "      <th>LuogoNascita</th>\n",
       "      <th>ModalitaAccadimento</th>\n",
       "      <th>ConSenzaMezzoTrasporto</th>\n",
       "      <th>IdentificativoDatoreLavoro</th>\n",
       "      <th>PosizioneAssicurativaTerritoriale</th>\n",
       "    </tr>\n",
       "  </thead>\n",
       "  <tbody>\n",
       "    <tr>\n",
       "      <th>0</th>\n",
       "      <td>30/09/2018</td>\n",
       "      <td>04/05/2018</td>\n",
       "      <td>20/04/2018</td>\n",
       "      <td>15</td>\n",
       "      <td>F</td>\n",
       "      <td>43</td>\n",
       "      <td>ITAL</td>\n",
       "      <td>S</td>\n",
       "      <td>N</td>\n",
       "      <td>-1</td>\n",
       "      <td>-1</td>\n",
       "    </tr>\n",
       "    <tr>\n",
       "      <th>1</th>\n",
       "      <td>30/09/2017</td>\n",
       "      <td>12/01/2017</td>\n",
       "      <td>12/01/2017</td>\n",
       "      <td>12</td>\n",
       "      <td>F</td>\n",
       "      <td>54</td>\n",
       "      <td>ITAL</td>\n",
       "      <td>N</td>\n",
       "      <td>N</td>\n",
       "      <td>-1</td>\n",
       "      <td>-1</td>\n",
       "    </tr>\n",
       "    <tr>\n",
       "      <th>2</th>\n",
       "      <td>30/09/2017</td>\n",
       "      <td>22/03/2017</td>\n",
       "      <td>22/03/2017</td>\n",
       "      <td>12</td>\n",
       "      <td>F</td>\n",
       "      <td>61</td>\n",
       "      <td>ITAL</td>\n",
       "      <td>N</td>\n",
       "      <td>N</td>\n",
       "      <td>-1</td>\n",
       "      <td>-1</td>\n",
       "    </tr>\n",
       "    <tr>\n",
       "      <th>3</th>\n",
       "      <td>30/09/2017</td>\n",
       "      <td>26/04/2017</td>\n",
       "      <td>21/04/2017</td>\n",
       "      <td>12</td>\n",
       "      <td>M</td>\n",
       "      <td>6</td>\n",
       "      <td>ITAL</td>\n",
       "      <td>N</td>\n",
       "      <td>N</td>\n",
       "      <td>-1</td>\n",
       "      <td>-1</td>\n",
       "    </tr>\n",
       "    <tr>\n",
       "      <th>4</th>\n",
       "      <td>30/09/2017</td>\n",
       "      <td>22/05/2017</td>\n",
       "      <td>18/05/2017</td>\n",
       "      <td>15</td>\n",
       "      <td>M</td>\n",
       "      <td>49</td>\n",
       "      <td>ITAL</td>\n",
       "      <td>S</td>\n",
       "      <td>S</td>\n",
       "      <td>6748758</td>\n",
       "      <td>8332449</td>\n",
       "    </tr>\n",
       "  </tbody>\n",
       "</table>\n",
       "</div>"
      ],
      "text/plain": [
       "  DataRilevazione DataProtocollo DataAccadimento  LuogoAccadimento Genere  \\\n",
       "0      30/09/2018     04/05/2018      20/04/2018                15      F   \n",
       "1      30/09/2017     12/01/2017      12/01/2017                12      F   \n",
       "2      30/09/2017     22/03/2017      22/03/2017                12      F   \n",
       "3      30/09/2017     26/04/2017      21/04/2017                12      M   \n",
       "4      30/09/2017     22/05/2017      18/05/2017                15      M   \n",
       "\n",
       "   Eta LuogoNascita ModalitaAccadimento ConSenzaMezzoTrasporto  \\\n",
       "0   43         ITAL                   S                      N   \n",
       "1   54         ITAL                   N                      N   \n",
       "2   61         ITAL                   N                      N   \n",
       "3    6         ITAL                   N                      N   \n",
       "4   49         ITAL                   S                      S   \n",
       "\n",
       "   IdentificativoDatoreLavoro  PosizioneAssicurativaTerritoriale  \n",
       "0                          -1                                 -1  \n",
       "1                          -1                                 -1  \n",
       "2                          -1                                 -1  \n",
       "3                          -1                                 -1  \n",
       "4                     6748758                            8332449  "
      ]
     },
     "execution_count": 19,
     "metadata": {},
     "output_type": "execute_result"
    }
   ],
   "source": [
    "dati.head()"
   ]
  },
  {
   "cell_type": "code",
   "execution_count": 18,
   "metadata": {
    "scrolled": true
   },
   "outputs": [
    {
     "data": {
      "text/plain": [
       "'31/08/2018'"
      ]
     },
     "execution_count": 18,
     "metadata": {},
     "output_type": "execute_result"
    }
   ],
   "source": [
    "dati[\"DataAccadimento\"].max()"
   ]
  },
  {
   "cell_type": "code",
   "execution_count": 26,
   "metadata": {},
   "outputs": [
    {
     "data": {
      "text/plain": [
       "<matplotlib.axes._subplots.AxesSubplot at 0x138f42be0>"
      ]
     },
     "execution_count": 26,
     "metadata": {},
     "output_type": "execute_result"
    },
    {
     "data": {
      "image/png": "[encoded data removed]",
      "text/plain": [
       "<Figure size 432x288 with 1 Axes>"
      ]
     },
     "metadata": {
      "needs_background": "light"
     },
     "output_type": "display_data"
    }
   ],
   "source": [
    "dati[\"Genere\"].value_counts().plot(kind='barh')"
   ]
  },
  {
   "cell_type": "code",
   "execution_count": 2,
   "metadata": {},
   "outputs": [
    {
     "ename": "NameError",
     "evalue": "name 'dati' is not defined",
     "output_type": "error",
     "traceback": [
      "\u001b[0;31m---------------------------------------------------------------------------\u001b[0m",
      "\u001b[0;31mNameError\u001b[0m                                 Traceback (most recent call last)",
      "\u001b[0;32m<ipython-input-2-e9e29e6c657d>\u001b[0m in \u001b[0;36m<module>\u001b[0;34m()\u001b[0m\n\u001b[0;32m----> 1\u001b[0;31m \u001b[0mdati\u001b[0m\u001b[0;34m[\u001b[0m\u001b[0;34m\"LuogoNascita\"\u001b[0m\u001b[0;34m]\u001b[0m\u001b[0;34m.\u001b[0m\u001b[0mvalue_counts\u001b[0m\u001b[0;34m(\u001b[0m\u001b[0;34m)\u001b[0m\u001b[0;34m.\u001b[0m\u001b[0mplot\u001b[0m\u001b[0;34m(\u001b[0m\u001b[0mkind\u001b[0m\u001b[0;34m=\u001b[0m\u001b[0;34m'bar'\u001b[0m\u001b[0;34m)\u001b[0m\u001b[0;34m\u001b[0m\u001b[0m\n\u001b[0m",
      "\u001b[0;31mNameError\u001b[0m: name 'dati' is not defined"
     ]
    }
   ],
   "source": [
    "dati[\"LuogoNascita\"].value_counts().plot(kind='bar')"
   ]
  },
  {
   "cell_type": "code",
   "execution_count": 19,
   "metadata": {},
   "outputs": [
    {
     "name": "stdout",
     "output_type": "stream",
     "text": [
      "<class 'pandas.core.frame.DataFrame'>\n",
      "RangeIndex: 173729 entries, 0 to 173728\n",
      "Data columns (total 18 columns):\n",
      "DataRilevazione                      173729 non-null object\n",
      "DataProtocollo                       173729 non-null object\n",
      "DataAccadimento                      173729 non-null object\n",
      "DataMorte                            207 non-null object\n",
      "LuogoAccadimento                     173729 non-null int64\n",
      "IdentificativoInfortunato            173729 non-null int64\n",
      "Genere                               173729 non-null object\n",
      "Eta                                  173729 non-null int64\n",
      "LuogoNascita                         173729 non-null object\n",
      "ModalitaAccadimento                  173729 non-null object\n",
      "ConSenzaMezzoTrasporto               173729 non-null object\n",
      "IdentificativoCaso                   173729 non-null int64\n",
      "IdentificativoDatoreLavoro           173729 non-null int64\n",
      "PosizioneAssicurativaTerritoriale    173729 non-null int64\n",
      "SettoreAttivitaEconomica             173729 non-null object\n",
      "Gestione                             173729 non-null object\n",
      "GestioneTariffaria                   173729 non-null object\n",
      "GrandeGruppoTariffario               173729 non-null object\n",
      "dtypes: int64(6), object(12)\n",
      "memory usage: 23.9+ MB\n"
     ]
    }
   ],
   "source": [
    "dati.info()"
   ]
  },
  {
   "cell_type": "code",
   "execution_count": null,
   "metadata": {},
   "outputs": [],
   "source": []
  }
 ],
 "metadata": {
  "kernelspec": {
   "display_name": "Python 3",
   "language": "python",
   "name": "python3"
  },
  "language_info": {
   "codemirror_mode": {
    "name": "ipython",
    "version": 3
   },
   "file_extension": ".py",
   "mimetype": "text/x-python",
   "name": "python",
   "nbconvert_exporter": "python",
   "pygments_lexer": "ipython3",
   "version": "3.7.0"
  }
 },
 "nbformat": 4,
 "nbformat_minor": 2
}
