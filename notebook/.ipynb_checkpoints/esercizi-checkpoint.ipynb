{
 "cells": [
  {
   "cell_type": "code",
   "execution_count": 2,
   "metadata": {},
   "outputs": [
    {
     "data": {
      "text/plain": [
       "[8, 13, 21, 34, 55, 89]"
      ]
     },
     "execution_count": 2,
     "metadata": {},
     "output_type": "execute_result"
    }
   ],
   "source": [
    "#ex 3\n",
    "a = [1, 1, 2, 3, 5, 8, 13, 21, 34, 55, 89]\n",
    "res=[x for x in a if x>5]\n",
    "res"
   ]
  },
  {
   "cell_type": "code",
   "execution_count": 26,
   "metadata": {},
   "outputs": [
    {
     "name": "stdout",
     "output_type": "stream",
     "text": [
      "Inserisci un numero e ti dirò i suoi divisori: 8\n",
      "[2, 4]\n"
     ]
    }
   ],
   "source": [
    "#ex 4\n",
    "a=int(input(\"Inserisci un numero e ti dirò i suoi divisori: \"))\n",
    "#b=[x for x in range(2,a) if a%x==0]\n",
    "def primi(n):\n",
    "    l=[]\n",
    "    for x in range(2,n):\n",
    "        if n%x==0:\n",
    "            l.append(x)\n",
    "    return l\n",
    "print(primi(a))"
   ]
  },
  {
   "cell_type": "code",
   "execution_count": 13,
   "metadata": {},
   "outputs": [
    {
     "data": {
      "text/plain": [
       "[1, 2, 3, 5, 8, 13]"
      ]
     },
     "execution_count": 13,
     "metadata": {},
     "output_type": "execute_result"
    }
   ],
   "source": [
    "#ex 5\n",
    "a = [1, 1, 2, 3, 5, 8, 13, 21, 34, 55, 89]\n",
    "b = [1, 2, 3, 4, 5, 6, 7, 8, 9, 10, 11, 12, 13]\n",
    "\n",
    "def overlap(x,y):\n",
    "    z=[]\n",
    "    pres = False\n",
    "    for i in x:\n",
    "        pres=False\n",
    "        for j in y:\n",
    "            if i==j:\n",
    "                for l in z:\n",
    "                    if l==i:\n",
    "                        #l'elemento è già presente nella lista\n",
    "                        pres=True\n",
    "                        break\n",
    "                if not pres:\n",
    "                    z.append(i)\n",
    "                    break\n",
    "    return z\n",
    "overlap(a,b)"
   ]
  },
  {
   "cell_type": "code",
   "execution_count": 16,
   "metadata": {},
   "outputs": [
    {
     "name": "stdout",
     "output_type": "stream",
     "text": [
      "Inserisci stringa:2002\n",
      "è palindroma!\n"
     ]
    }
   ],
   "source": [
    "#ex 6\n",
    "string = input(\"Inserisci stringa:\")\n",
    "def palindroma(str):\n",
    "    l=list(str)\n",
    "    for i in range(0,len(l)):\n",
    "        #uso len(l)-1 perché è l'indice dell'ultimo elemento\n",
    "        if(l[i]!=l[(len(l)-1)-i]):\n",
    "            return False\n",
    "    return True\n",
    "if palindroma(string):\n",
    "    print(\"è palindroma!\")\n",
    "else:\n",
    "    print(\"non lo è!\")"
   ]
  },
  {
   "cell_type": "code",
   "execution_count": 23,
   "metadata": {},
   "outputs": [
    {
     "name": "stdout",
     "output_type": "stream",
     "text": [
      "5\n",
      "Troppo alto\n",
      "3\n",
      "Troppo alto\n",
      "1\n",
      "Troppo basso\n",
      "2\n",
      "Azzeccato!\n",
      "4 tentativi\n"
     ]
    }
   ],
   "source": [
    "#ex 9\n",
    "import random\n",
    "a=random.randint(1,9)\n",
    "i=0\n",
    "while True:\n",
    "    b=int(input())\n",
    "    i+=1\n",
    "    if b<a:\n",
    "        print(\"Troppo basso\")\n",
    "    elif b>a:\n",
    "        print(\"Troppo alto\")\n",
    "    elif a==b:\n",
    "        print(\"Azzeccato!\")\n",
    "        break\n",
    "print(str(i)+\" tentativi\")"
   ]
  },
  {
   "cell_type": "code",
   "execution_count": 30,
   "metadata": {},
   "outputs": [
    {
     "name": "stdout",
     "output_type": "stream",
     "text": [
      "Inserisci un numero e ti dirò se è primo: \n",
      "19\n",
      "è primo!\n"
     ]
    }
   ],
   "source": [
    "#ex 11\n",
    "def prime(n):\n",
    "    if len(primi(n))==0:\n",
    "        print(\"è primo!\")\n",
    "    else:\n",
    "        print(\"non è primo\")\n",
    "a=int(input(\"Inserisci un numero e ti dirò se è primo: \\n\"))\n",
    "prime(a)"
   ]
  },
  {
   "cell_type": "code",
   "execution_count": 40,
   "metadata": {},
   "outputs": [
    {
     "data": {
      "text/plain": [
       "13"
      ]
     },
     "execution_count": 40,
     "metadata": {},
     "output_type": "execute_result"
    }
   ],
   "source": [
    "#ex 13\n",
    "#funzione di fibonacci ricorsiva\n",
    "def fib(n):\n",
    "    if n==0:\n",
    "        return 0\n",
    "    elif n==1:\n",
    "        return 1\n",
    "    else:\n",
    "        return fib(n-2)+fib(n-1)\n",
    "fib(7)"
   ]
  },
  {
   "cell_type": "code",
   "execution_count": 42,
   "metadata": {},
   "outputs": [
    {
     "data": {
      "text/plain": [
       "[1, 2, 3, 34, 5, 8, 13, 21, 55, 89]"
      ]
     },
     "execution_count": 42,
     "metadata": {},
     "output_type": "execute_result"
    }
   ],
   "source": [
    "#ex 14\n",
    "a=[1, 1, 2, 3, 5, 8, 13, 21, 34, 55, 89]\n",
    "b={x for x in a}\n",
    "c=[x for x in b]\n",
    "c"
   ]
  },
  {
   "cell_type": "code",
   "execution_count": 58,
   "metadata": {},
   "outputs": [
    {
     "name": "stdout",
     "output_type": "stream",
     "text": [
      "inserisci stringaciao come stai tu?\n"
     ]
    },
    {
     "data": {
      "text/plain": [
       "'tu? stai come ciao'"
      ]
     },
     "execution_count": 58,
     "metadata": {},
     "output_type": "execute_result"
    }
   ],
   "source": [
    "#ex 15\n",
    "string=input(\"inserisci stringa\")\n",
    "a=string.split(\" \")\n",
    "l=[]\n",
    "for i in range(0,len(a)):\n",
    "    l.append(a[len(a)-1-i])\n",
    "\" \".join(l)"
   ]
  },
  {
   "cell_type": "code",
   "execution_count": 153,
   "metadata": {},
   "outputs": [
    {
     "data": {
      "text/plain": [
       "'uUvGKV'"
      ]
     },
     "execution_count": 153,
     "metadata": {},
     "output_type": "execute_result"
    }
   ],
   "source": [
    "#ex 16\n",
    "import string\n",
    "char=list(string.ascii_letters+string.digits)\n",
    "special_char=list(string.punctuation)\n",
    "c=random.randint(5,10)\n",
    "password=[]\n",
    "for x in range(0,c):\n",
    "    b=random.randint(0,len(char)-1)\n",
    "    password.append(char[b])\n",
    "'''b=random.randint(0,len(special_char)-1)\n",
    "password.append(special_char[b])'''\n",
    "\"\".join(password)"
   ]
  },
  {
   "cell_type": "code",
   "execution_count": 132,
   "metadata": {},
   "outputs": [
    {
     "data": {
      "text/plain": [
       "<h2 class=\"css-5z5voo esl82me2\">In the ‘At War’ Newsletter</h2>"
      ]
     },
     "execution_count": 132,
     "metadata": {},
     "output_type": "execute_result"
    }
   ],
   "source": [
    "#ex 17\n",
    "import requests\n",
    "from bs4 import BeautifulSoup\n",
    "url = 'http://newyorktimes.com'\n",
    "r = requests.get(url)\n",
    "r_html=r.text\n",
    "soup = BeautifulSoup(r_html)\n",
    "\n",
    "soup.find('h2', \"css-5z5voo esl82me2\")\n"
   ]
  },
  {
   "cell_type": "code",
   "execution_count": 4,
   "metadata": {},
   "outputs": [
    {
     "name": "stdout",
     "output_type": "stream",
     "text": [
      "[3, 8, 9, 6]\n",
      "inserisci3896\n",
      "4  cows and  0  bulls\n"
     ]
    }
   ],
   "source": [
    "#ex 18\n",
    "import random\n",
    "def numcas():\n",
    "    q=random.randint(0,9)\n",
    "    w=random.randint(0,9)\n",
    "    e=random.randint(0,9)\n",
    "    r=random.randint(0,9)\n",
    "    num=[q,w,e,r]\n",
    "    return num\n",
    "\n",
    "def div(n):\n",
    "    for i in range(4):\n",
    "        for j in range(4):\n",
    "            if n[i]==n[j] and i!=j:\n",
    "                return False\n",
    "    return True\n",
    "\n",
    "num=numcas()\n",
    "#print(div([2,3,4,5]))\n",
    "while(not div(num)):\n",
    "    num=numcas()\n",
    "    print(num)\n",
    "\n",
    "while True:\n",
    "    a=list(str(input(\"inserisci\\n\")))\n",
    "    cows=0\n",
    "    bulls=0\n",
    "    for i in range(4):\n",
    "        if num[i]==int(a[i]):\n",
    "            cows+=1\n",
    "        else:\n",
    "            for j in range(4):\n",
    "                if int(a[i])==num[j]:\n",
    "                    bulls+=1\n",
    "    print(cows,\" cows and \",bulls,\" bulls\")\n",
    "    if cows==4:\n",
    "        break"
   ]
  },
  {
   "cell_type": "code",
   "execution_count": null,
   "metadata": {},
   "outputs": [],
   "source": [
    "type(list((input(\"inserisci\")))[1])"
   ]
  },
  {
   "cell_type": "code",
   "execution_count": null,
   "metadata": {},
   "outputs": [],
   "source": []
  },
  {
   "cell_type": "code",
   "execution_count": null,
   "metadata": {},
   "outputs": [],
   "source": []
  }
 ],
 "metadata": {
  "kernelspec": {
   "display_name": "Python 3",
   "language": "python",
   "name": "python3"
  },
  "language_info": {
   "codemirror_mode": {
    "name": "ipython",
    "version": 3
   },
   "file_extension": ".py",
   "mimetype": "text/x-python",
   "name": "python",
   "nbconvert_exporter": "python",
   "pygments_lexer": "ipython3",
   "version": "3.7.0"
  }
 },
 "nbformat": 4,
 "nbformat_minor": 2
}
